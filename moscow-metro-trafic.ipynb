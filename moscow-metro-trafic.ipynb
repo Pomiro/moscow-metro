{
 "cells": [
  {
   "cell_type": "code",
   "execution_count": null,
   "metadata": {
    "id": "F4WlZOpRSGyP"
   },
   "outputs": [],
   "source": [
    "import pandas as pd\n",
    "import catboost as cb\n",
    "import numpy as np\n",
    "import os\n",
    "\n",
    "from catboost import Pool\n",
    "from sklearn.model_selection import train_test_split\n",
    "\n",
    "SEED = 5\n",
    "def seed_everything(seed=42):\n",
    "    os.environ['PYTHONHASHSEED'] = str(seed)\n",
    "    np.random.seed(seed)\n",
    "seed_everything(SEED)"
   ]
  },
  {
   "cell_type": "code",
   "execution_count": null,
   "metadata": {
    "id": "L0RtqOFKSN29"
   },
   "outputs": [],
   "source": [
    "df = pd.read_csv('/content/drive/MyDrive/moscow-metro/data/train_dataset_train.csv', parse_dates=['pass_dttm'])\n",
    "df_test = pd.read_csv('/content/drive/MyDrive/moscow-metro/data/test_dataset_test.csv', parse_dates=['pass_dttm'])"
   ]
  },
  {
   "cell_type": "code",
   "execution_count": null,
   "metadata": {
    "id": "NrHrDpA4Sx59"
   },
   "outputs": [],
   "source": [
    "def fe(df):\n",
    "    '''\n",
    "    Generate features\n",
    "    '''\n",
    "    df['day'] = df['pass_dttm'].dt.day\n",
    "    df['weekday'] = df['pass_dttm'].dt.weekday\n",
    "    df['seconds'] = (df['pass_dttm'].dt.hour * 60 + df['pass_dttm'].dt.minute) * 60 + df['pass_dttm'].dt.second\n",
    "\n",
    "    df = df.drop(['pass_dttm'], axis=1)\n",
    "    return df"
   ]
  },
  {
   "cell_type": "code",
   "execution_count": null,
   "metadata": {
    "id": "fc07pZqYiMmy"
   },
   "outputs": [],
   "source": [
    "train = fe(df).drop([\"ticket_id\", \"entrance_nm\", \"station_nm\", \"line_nm\", \"label\", \"time_to_under\", 'id'], axis = 1)\n",
    "test = fe(df_test).drop([\"ticket_id\", \"entrance_nm\", \"station_nm\", \"line_nm\", 'id'], axis = 1)"
   ]
  },
  {
   "cell_type": "code",
   "execution_count": null,
   "metadata": {
    "id": "U7WCPagJy-lu"
   },
   "outputs": [],
   "source": [
    "cat_features = range(0,6)\n",
    "X = train\n",
    "y_clf = df[\"label\"]\n",
    "\n",
    "train_pool = Pool(X, y_clf, cat_features=cat_features)\n",
    "\n",
    "clf = cb.CatBoostClassifier(loss_function='MultiClassOneVsAll',\n",
    "                            task_type=\"GPU\",\n",
    "                            learning_rate=0.05,\n",
    "                            depth=7,\n",
    "                            iterations=3236,\n",
    "                            verbose=200,\n",
    "                            random_state=SEED\n",
    "                            )\n",
    "clf.fit(train_pool)\n",
    "clf_pred = clf.predict(test)"
   ]
  },
  {
   "cell_type": "code",
   "execution_count": null,
   "metadata": {
    "id": "YFqfbes5irgu"
   },
   "outputs": [],
   "source": [
    "X = train\n",
    "y_reg = df[\"time_to_under\"]\n",
    "\n",
    "train_pool = Pool(X, y_reg, cat_features=cat_features)\n",
    "\n",
    "reg = cb.CatBoostRegressor(task_type=\"GPU\",\n",
    "                           learning_rate=0.05,\n",
    "                           depth=8,\n",
    "                           verbose=200,\n",
    "                           iterations=1597,\n",
    "                           random_state=SEED,\n",
    "                           )\n",
    "reg.fit(train_pool)\n",
    "reg_pred = reg.predict(test)"
   ]
  },
  {
   "cell_type": "code",
   "execution_count": null,
   "metadata": {
    "id": "ngSGzD7Pkw4w"
   },
   "outputs": [],
   "source": [
    "sample_solution = pd.read_csv('/content/drive/MyDrive/moscow-metro/subway/sample_solution.csv')\n",
    "sample_solution['time_to_under'] = reg_pred\n",
    "sample_solution['label'] = clf_pred\n",
    "sample_solution.to_csv('half.csv', index=False)"
   ]
  }
 ],
 "metadata": {
  "accelerator": "GPU",
  "colab": {
   "provenance": []
  },
  "gpuClass": "standard",
  "kernelspec": {
   "display_name": "Python 3 (ipykernel)",
   "language": "python",
   "name": "python3"
  },
  "language_info": {
   "codemirror_mode": {
    "name": "ipython",
    "version": 3
   },
   "file_extension": ".py",
   "mimetype": "text/x-python",
   "name": "python",
   "nbconvert_exporter": "python",
   "pygments_lexer": "ipython3",
   "version": "3.10.6"
  }
 },
 "nbformat": 4,
 "nbformat_minor": 1
}
